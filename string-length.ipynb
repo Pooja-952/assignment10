{
 "cells": [
  {
   "cell_type": "markdown",
   "id": "64113f46-148b-4f7a-834e-bceec1491aa1",
   "metadata": {},
   "source": [
    "### Q4. Given a string calculate length of the string using recursion."
   ]
  },
  {
   "cell_type": "code",
   "execution_count": 7,
   "id": "ec34c7e8-2cc0-47cc-bf31-bee51ad4c305",
   "metadata": {},
   "outputs": [],
   "source": [
    "def length(s):\n",
    "    n= len(s)\n",
    "    print(n)"
   ]
  },
  {
   "cell_type": "code",
   "execution_count": 10,
   "id": "00613ef6-39c5-4ce5-8476-cfa803320ac1",
   "metadata": {},
   "outputs": [
    {
     "name": "stdout",
     "output_type": "stream",
     "text": [
      "4\n"
     ]
    }
   ],
   "source": [
    "s = \"abcd\"\n",
    "print(len(s))"
   ]
  },
  {
   "cell_type": "code",
   "execution_count": 11,
   "id": "39e807a3-8f45-42dd-a89e-183e3ff49df4",
   "metadata": {},
   "outputs": [
    {
     "name": "stdout",
     "output_type": "stream",
     "text": [
      "5\n"
     ]
    }
   ],
   "source": [
    "s= \"pooja\"\n",
    "print(len(s))"
   ]
  },
  {
   "cell_type": "code",
   "execution_count": null,
   "id": "b2c048b7-a97e-40c9-add8-4910d3b91cb7",
   "metadata": {},
   "outputs": [],
   "source": []
  }
 ],
 "metadata": {
  "kernelspec": {
   "display_name": "Python 3 (ipykernel)",
   "language": "python",
   "name": "python3"
  },
  "language_info": {
   "codemirror_mode": {
    "name": "ipython",
    "version": 3
   },
   "file_extension": ".py",
   "mimetype": "text/x-python",
   "name": "python",
   "nbconvert_exporter": "python",
   "pygments_lexer": "ipython3",
   "version": "3.10.6"
  }
 },
 "nbformat": 4,
 "nbformat_minor": 5
}
