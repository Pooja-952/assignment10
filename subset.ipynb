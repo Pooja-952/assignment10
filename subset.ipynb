{
 "cells": [
  {
   "cell_type": "markdown",
   "id": "ed4bd96a-d82a-4f51-8f17-63bcfa3a4fa3",
   "metadata": {},
   "source": [
    "### Q3. Given a set represented as a string, write a recursive code to print all subsets of it. The subsets can be printed in any order."
   ]
  },
  {
   "cell_type": "code",
   "execution_count": 7,
   "id": "90c6f90f-bcfd-47e8-8309-a3250da629ab",
   "metadata": {},
   "outputs": [],
   "source": [
    "def print_subsets(s, subset=\"\", index=0):\n",
    "    if index == len(s):\n",
    "        print(subset)\n",
    "        return\n",
    "    \n",
    "    print_subsets(s, subset, index + 1)\n",
    "    \n",
    "    print_subsets(s, subset + s[index], index + 1)\n",
    "    "
   ]
  },
  {
   "cell_type": "code",
   "execution_count": 12,
   "id": "0022d23f-44d6-477b-82d2-95ce0577931b",
   "metadata": {},
   "outputs": [
    {
     "name": "stdout",
     "output_type": "stream",
     "text": [
      "\n",
      "c\n",
      "b\n",
      "bc\n",
      "a\n",
      "ac\n",
      "ab\n",
      "abc\n",
      "None\n"
     ]
    }
   ],
   "source": [
    "s = \"abc\"\n",
    "result = print_subsets(s, subset=\"\", index = 0)\n",
    "print(result)"
   ]
  },
  {
   "cell_type": "code",
   "execution_count": null,
   "id": "5a56dd3a-839f-48ab-b12c-f581deb3d69a",
   "metadata": {},
   "outputs": [],
   "source": []
  }
 ],
 "metadata": {
  "kernelspec": {
   "display_name": "Python 3 (ipykernel)",
   "language": "python",
   "name": "python3"
  },
  "language_info": {
   "codemirror_mode": {
    "name": "ipython",
    "version": 3
   },
   "file_extension": ".py",
   "mimetype": "text/x-python",
   "name": "python",
   "nbconvert_exporter": "python",
   "pygments_lexer": "ipython3",
   "version": "3.10.6"
  }
 },
 "nbformat": 4,
 "nbformat_minor": 5
}
