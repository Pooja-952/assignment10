{
 "cells": [
  {
   "cell_type": "markdown",
   "id": "f2932b26-096e-4f25-9f86-2e7ea0753373",
   "metadata": {},
   "source": [
    "### Q1 Given an integer `n`, return *`true` if it is a power of three. Otherwise, return `false`*.\n",
    "An integer `n` is a power of three, if there exists an integer `x` such that `n == 3x`."
   ]
  },
  {
   "cell_type": "code",
   "execution_count": 19,
   "id": "96677ee0-2104-4c10-ab1d-91d65c3cc6f6",
   "metadata": {},
   "outputs": [],
   "source": [
    "def multipleOf(n):\n",
    "    if n <= 0:\n",
    "        return False\n",
    "    while n % 3 == 0:\n",
    "        n /= 3\n",
    "    return n == 1    "
   ]
  },
  {
   "cell_type": "code",
   "execution_count": 20,
   "id": "4ec01de3-890b-4e45-9566-3c46b342fb9a",
   "metadata": {},
   "outputs": [
    {
     "name": "stdout",
     "output_type": "stream",
     "text": [
      "True\n"
     ]
    }
   ],
   "source": [
    "n = 27\n",
    "result = multipleOf(n)\n",
    "print(result)"
   ]
  },
  {
   "cell_type": "code",
   "execution_count": null,
   "id": "7fb05cdb-3f08-4080-bfac-6ffc1ea3753e",
   "metadata": {},
   "outputs": [],
   "source": []
  }
 ],
 "metadata": {
  "kernelspec": {
   "display_name": "Python 3 (ipykernel)",
   "language": "python",
   "name": "python3"
  },
  "language_info": {
   "codemirror_mode": {
    "name": "ipython",
    "version": 3
   },
   "file_extension": ".py",
   "mimetype": "text/x-python",
   "name": "python",
   "nbconvert_exporter": "python",
   "pygments_lexer": "ipython3",
   "version": "3.10.6"
  }
 },
 "nbformat": 4,
 "nbformat_minor": 5
}
