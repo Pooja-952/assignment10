{
 "cells": [
  {
   "cell_type": "markdown",
   "id": "794d645d-ebac-4342-8f44-f27e321f5315",
   "metadata": {},
   "source": [
    "#### Q5. We are given a string S, we need to find count of all contiguous substrings starting and ending with same character."
   ]
  },
  {
   "cell_type": "code",
   "execution_count": 17,
   "id": "9407887a-d24a-4e4e-a51b-a9e359b56e93",
   "metadata": {},
   "outputs": [],
   "source": [
    "def substrings(S):\n",
    "    count = 0\n",
    "    n = len(S)\n",
    "    \n",
    "    for i in range(n):\n",
    "        \n",
    "        for j in range(i,n):\n",
    "            \n",
    "            if S[i] == S[j]:\n",
    "                count += 1\n",
    "            \n",
    "    return count        "
   ]
  },
  {
   "cell_type": "code",
   "execution_count": 18,
   "id": "9c97a8db-c353-4e02-9acf-59f0a5e64bfd",
   "metadata": {},
   "outputs": [
    {
     "name": "stdout",
     "output_type": "stream",
     "text": [
      "4\n"
     ]
    }
   ],
   "source": [
    "S = \"aba\"\n",
    "print(substrings(S))"
   ]
  },
  {
   "cell_type": "code",
   "execution_count": null,
   "id": "be2de3b5-0142-49fa-b3fa-3e96795f5487",
   "metadata": {},
   "outputs": [],
   "source": []
  }
 ],
 "metadata": {
  "kernelspec": {
   "display_name": "Python 3 (ipykernel)",
   "language": "python",
   "name": "python3"
  },
  "language_info": {
   "codemirror_mode": {
    "name": "ipython",
    "version": 3
   },
   "file_extension": ".py",
   "mimetype": "text/x-python",
   "name": "python",
   "nbconvert_exporter": "python",
   "pygments_lexer": "ipython3",
   "version": "3.10.6"
  }
 },
 "nbformat": 4,
 "nbformat_minor": 5
}
