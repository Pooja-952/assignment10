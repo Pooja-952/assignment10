{
 "cells": [
  {
   "cell_type": "markdown",
   "id": "a3f4ae79-63d4-4717-82a6-04881223273a",
   "metadata": {},
   "source": [
    "#### Q8. Given a string, count total number of consonants in it. A consonant is an English alphabet character that is not vowel (a, e, i, o and u). Examples of constants are b, c, d, f, and g."
   ]
  },
  {
   "cell_type": "code",
   "execution_count": 4,
   "id": "83e03916-3c2d-479b-97d1-3759046d4c2b",
   "metadata": {},
   "outputs": [],
   "source": [
    "def consonants(s):\n",
    "    count = 0\n",
    "    vowel = ['a', 'e', 'i', 'o', 'u']\n",
    "    s = s.lower()\n",
    "    \n",
    "    for char in s:\n",
    "        if char.isalpha() and char not in vowel:\n",
    "            count += 1\n",
    "    \n",
    "    return count"
   ]
  },
  {
   "cell_type": "code",
   "execution_count": 5,
   "id": "7e6562cb-0404-4706-b485-a6e3d1971794",
   "metadata": {},
   "outputs": [
    {
     "name": "stdout",
     "output_type": "stream",
     "text": [
      "12\n"
     ]
    }
   ],
   "source": [
    "s = 'geeksforgeeks portal'\n",
    "print(consonants(s))"
   ]
  },
  {
   "cell_type": "code",
   "execution_count": null,
   "id": "26ced33f-55b8-4468-b62c-3ac1fc9de704",
   "metadata": {},
   "outputs": [],
   "source": []
  }
 ],
 "metadata": {
  "kernelspec": {
   "display_name": "Python 3 (ipykernel)",
   "language": "python",
   "name": "python3"
  },
  "language_info": {
   "codemirror_mode": {
    "name": "ipython",
    "version": 3
   },
   "file_extension": ".py",
   "mimetype": "text/x-python",
   "name": "python",
   "nbconvert_exporter": "python",
   "pygments_lexer": "ipython3",
   "version": "3.10.6"
  }
 },
 "nbformat": 4,
 "nbformat_minor": 5
}
