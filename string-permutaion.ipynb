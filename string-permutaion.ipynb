{
 "cells": [
  {
   "cell_type": "markdown",
   "id": "042583f3-1a7d-42b4-95ec-83da933653ab",
   "metadata": {},
   "source": [
    "#### Q7. Given a string str, the task is to print all the permutations of str. A permutation is an arrangement of all or part of a set of objects, with regard to the order of the arrangement. For instance, the words ‘bat’ and ‘tab’ represents two distinct permutation (or arrangements) of a similar three letter word."
   ]
  },
  {
   "cell_type": "code",
   "execution_count": 2,
   "id": "46b13e1c-cc50-4254-b620-d2b7ff72efc2",
   "metadata": {},
   "outputs": [],
   "source": [
    "def permutation(str):\n",
    "    char = list(str)\n",
    "    n= len(str)\n",
    "    \n",
    "    def backtrack(start):\n",
    "        if start == n - 1:\n",
    "            print(''.join(char))\n",
    "        else:\n",
    "            for i in range(start, n):\n",
    "                char[start], char[i] = char[i], char[start]\n",
    "                backtrack(start + 1)\n",
    "                char[start], char[i] = char[i], char[start]\n",
    "                \n",
    "    backtrack(0)              "
   ]
  },
  {
   "cell_type": "code",
   "execution_count": 6,
   "id": "2f741ec8-e6e5-4a48-99c7-7910e7e1af4f",
   "metadata": {},
   "outputs": [
    {
     "name": "stdout",
     "output_type": "stream",
     "text": [
      "cd\n",
      "dc\n",
      "None\n"
     ]
    }
   ],
   "source": [
    "str = 'cd'\n",
    "print(permutation(str))"
   ]
  },
  {
   "cell_type": "code",
   "execution_count": 5,
   "id": "5082d145-8e4d-44d6-9bae-82438203afe6",
   "metadata": {},
   "outputs": [
    {
     "name": "stdout",
     "output_type": "stream",
     "text": [
      "abb\n",
      "abb\n",
      "bab\n",
      "bba\n",
      "bba\n",
      "bab\n",
      "None\n"
     ]
    }
   ],
   "source": [
    "str = 'abb'\n",
    "print(permutation(str))"
   ]
  },
  {
   "cell_type": "code",
   "execution_count": null,
   "id": "d26d1343-28e3-4b44-ab5f-05942ef33566",
   "metadata": {},
   "outputs": [],
   "source": []
  }
 ],
 "metadata": {
  "kernelspec": {
   "display_name": "Python 3 (ipykernel)",
   "language": "python",
   "name": "python3"
  },
  "language_info": {
   "codemirror_mode": {
    "name": "ipython",
    "version": 3
   },
   "file_extension": ".py",
   "mimetype": "text/x-python",
   "name": "python",
   "nbconvert_exporter": "python",
   "pygments_lexer": "ipython3",
   "version": "3.10.6"
  }
 },
 "nbformat": 4,
 "nbformat_minor": 5
}
